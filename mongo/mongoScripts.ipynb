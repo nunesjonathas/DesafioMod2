{
 "metadata": {
  "language_info": {
   "codemirror_mode": {
    "name": "ipython",
    "version": 3
   },
   "file_extension": ".py",
   "mimetype": "text/x-python",
   "name": "python",
   "nbconvert_exporter": "python",
   "pygments_lexer": "ipython3",
   "version": "3.9.1-final"
  },
  "orig_nbformat": 2,
  "kernelspec": {
   "name": "python3",
   "display_name": "Python 3.9.1 64-bit",
   "metadata": {
    "interpreter": {
     "hash": "92237062529a7dfad5db2170781e2ae2a26d776f3e84984f0f74275a2cb5ec83"
    }
   }
  }
 },
 "nbformat": 4,
 "nbformat_minor": 2,
 "cells": [
  {
   "source": [
    "Mostrar databases\n",
    "\n",
    "show dbs\n",
    "\n",
    "selecionar database\n",
    "\n",
    "use dbchess\n",
    "\n",
    "show\n",
    "\n",
    "db.inventory.find( {country: "
   ],
   "cell_type": "markdown",
   "metadata": {}
  },
  {
   "source": [
    "P6 - Quantos registros possuem na base de dados do chess?"
   ],
   "cell_type": "markdown",
   "metadata": {}
  },
  {
   "cell_type": "code",
   "execution_count": null,
   "metadata": {},
   "outputs": [],
   "source": [
    "db.chess_players.estimatedDocumentCount()"
   ]
  },
  {
   "source": [
    "\n",
    "\n",
    "P7 - Quantos jogadores são do Brasil?"
   ],
   "cell_type": "markdown",
   "metadata": {}
  },
  {
   "cell_type": "code",
   "execution_count": null,
   "metadata": {},
   "outputs": [],
   "source": [
    "db.chess_players.find({country : /BR/}).count()"
   ]
  },
  {
   "source": [
    "P8 - Quantos seguidores (número de pessoas) possue o jogador Rafael Leitao?\n"
   ],
   "cell_type": "markdown",
   "metadata": {}
  },
  {
   "cell_type": "code",
   "execution_count": null,
   "metadata": {},
   "outputs": [],
   "source": [
    "db.chess_players.find(\n",
    "    {name : \"Rafael Leitao\"},\n",
    "    {followers: 1, _id:0}\n",
    ")"
   ]
  },
  {
   "source": [
    "P9 - Quantas pessoas do dataset são streamer?"
   ],
   "cell_type": "markdown",
   "metadata": {}
  },
  {
   "cell_type": "code",
   "execution_count": null,
   "metadata": {},
   "outputs": [],
   "source": [
    "db.chess_players.find(\n",
    "    {is_streamer : true }\n",
    ").count()"
   ]
  },
  {
   "source": [
    "P10 - Quantos jogadores possuem mais de 10.000 seguidores? (operador maior ou igual a que?)\n"
   ],
   "cell_type": "markdown",
   "metadata": {}
  },
  {
   "cell_type": "code",
   "execution_count": null,
   "metadata": {},
   "outputs": [],
   "source": [
    "db.chess_players.find(\n",
    "    {followers : {$gt: 10000} }\n",
    ").count()"
   ]
  }
 ]
}