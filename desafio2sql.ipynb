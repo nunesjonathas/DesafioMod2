{
 "metadata": {
  "language_info": {
   "codemirror_mode": {
    "name": "ipython",
    "version": 3
   },
   "file_extension": ".py",
   "mimetype": "text/x-python",
   "name": "python",
   "nbconvert_exporter": "python",
   "pygments_lexer": "ipython3",
   "version": "3.9.1-final"
  },
  "orig_nbformat": 2,
  "kernelspec": {
   "name": "python3",
   "display_name": "Python 3.9.1 64-bit",
   "metadata": {
    "interpreter": {
     "hash": "92237062529a7dfad5db2170781e2ae2a26d776f3e84984f0f74275a2cb5ec83"
    }
   }
  }
 },
 "nbformat": 4,
 "nbformat_minor": 2,
 "cells": [
  {
   "source": [
    "Importando as Bibliotecas"
   ],
   "cell_type": "markdown",
   "metadata": {}
  },
  {
   "cell_type": "code",
   "execution_count": 1,
   "metadata": {},
   "outputs": [],
   "source": [
    "import MySQLdb\n",
    "import sqlalchemy\n",
    "import pandas as pd \n",
    "import os"
   ]
  },
  {
   "source": [
    "Configuração e conexão com o banco de dados"
   ],
   "cell_type": "markdown",
   "metadata": {}
  },
  {
   "cell_type": "code",
   "execution_count": 90,
   "metadata": {},
   "outputs": [],
   "source": [
    "#SQL Connection \n",
    "user = 'jonathas' #usuário\n",
    "password = '123456' #senha\n",
    "host = 'localhost' #manter como está\n",
    "database = 'desafio2IGTI' #schema\n",
    "string_conexao = f'mysql://{user}:{password}@{host}/{database}' #url de conexão com o bacanco de dados, não mudar.\n",
    "engine = sqlalchemy.create_engine(string_conexao)\n",
    "conn = engine.connect()"
   ]
  },
  {
   "source": [
    "Criação do df lendo o arquivo .csv"
   ],
   "cell_type": "markdown",
   "metadata": {}
  },
  {
   "cell_type": "code",
   "execution_count": 59,
   "metadata": {},
   "outputs": [],
   "source": [
    "df = []\n",
    "df = pd.read_csv('base/dados_jogadores.csv', sep = ';', encoding='latin-1') \n",
    "df = df.drop_duplicates()"
   ]
  },
  {
   "source": [
    "Verifica quais colunas possuem o valor faltando/null"
   ],
   "cell_type": "markdown",
   "metadata": {}
  },
  {
   "cell_type": "code",
   "execution_count": 74,
   "metadata": {},
   "outputs": [
    {
     "output_type": "execute_result",
     "data": {
      "text/plain": [
       "Index(['num_vitorias', 'num_derrotas', 'total_partidas'], dtype='object')"
      ]
     },
     "metadata": {},
     "execution_count": 74
    }
   ],
   "source": [
    "null_columns=df.columns[df.isnull().any()]\n",
    "null_columns"
   ]
  },
  {
   "source": [
    "Retorna quais as linhas possuem o valor null"
   ],
   "cell_type": "markdown",
   "metadata": {}
  },
  {
   "cell_type": "code",
   "execution_count": 75,
   "metadata": {},
   "outputs": [
    {
     "output_type": "execute_result",
     "data": {
      "text/plain": [
       "     num_vitorias  num_derrotas  total_partidas\n",
       "46            NaN          68.0            85.0\n",
       "55            NaN          29.0            80.0\n",
       "71           29.0           7.0             NaN\n",
       "86           80.0           6.0             NaN\n",
       "97            NaN           1.0            10.0\n",
       "137           NaN          28.0            44.0\n",
       "246          33.0           NaN            89.0\n",
       "251           NaN          27.0            28.0\n",
       "255           1.0           NaN            73.0\n",
       "287           3.0           NaN            17.0\n",
       "323           NaN           1.0             7.0\n",
       "336          36.0           NaN            64.0\n",
       "372           NaN          49.0            60.0\n",
       "407          54.0          28.0             NaN\n",
       "423          47.0          30.0             NaN\n",
       "453          15.0          42.0             NaN\n",
       "458          23.0          50.0             NaN\n",
       "473          24.0           4.0             NaN\n",
       "490          16.0           1.0             NaN\n",
       "492           NaN           6.0            25.0\n",
       "496          57.0           NaN            80.0"
      ],
      "text/html": "<div>\n<style scoped>\n    .dataframe tbody tr th:only-of-type {\n        vertical-align: middle;\n    }\n\n    .dataframe tbody tr th {\n        vertical-align: top;\n    }\n\n    .dataframe thead th {\n        text-align: right;\n    }\n</style>\n<table border=\"1\" class=\"dataframe\">\n  <thead>\n    <tr style=\"text-align: right;\">\n      <th></th>\n      <th>num_vitorias</th>\n      <th>num_derrotas</th>\n      <th>total_partidas</th>\n    </tr>\n  </thead>\n  <tbody>\n    <tr>\n      <th>46</th>\n      <td>NaN</td>\n      <td>68.0</td>\n      <td>85.0</td>\n    </tr>\n    <tr>\n      <th>55</th>\n      <td>NaN</td>\n      <td>29.0</td>\n      <td>80.0</td>\n    </tr>\n    <tr>\n      <th>71</th>\n      <td>29.0</td>\n      <td>7.0</td>\n      <td>NaN</td>\n    </tr>\n    <tr>\n      <th>86</th>\n      <td>80.0</td>\n      <td>6.0</td>\n      <td>NaN</td>\n    </tr>\n    <tr>\n      <th>97</th>\n      <td>NaN</td>\n      <td>1.0</td>\n      <td>10.0</td>\n    </tr>\n    <tr>\n      <th>137</th>\n      <td>NaN</td>\n      <td>28.0</td>\n      <td>44.0</td>\n    </tr>\n    <tr>\n      <th>246</th>\n      <td>33.0</td>\n      <td>NaN</td>\n      <td>89.0</td>\n    </tr>\n    <tr>\n      <th>251</th>\n      <td>NaN</td>\n      <td>27.0</td>\n      <td>28.0</td>\n    </tr>\n    <tr>\n      <th>255</th>\n      <td>1.0</td>\n      <td>NaN</td>\n      <td>73.0</td>\n    </tr>\n    <tr>\n      <th>287</th>\n      <td>3.0</td>\n      <td>NaN</td>\n      <td>17.0</td>\n    </tr>\n    <tr>\n      <th>323</th>\n      <td>NaN</td>\n      <td>1.0</td>\n      <td>7.0</td>\n    </tr>\n    <tr>\n      <th>336</th>\n      <td>36.0</td>\n      <td>NaN</td>\n      <td>64.0</td>\n    </tr>\n    <tr>\n      <th>372</th>\n      <td>NaN</td>\n      <td>49.0</td>\n      <td>60.0</td>\n    </tr>\n    <tr>\n      <th>407</th>\n      <td>54.0</td>\n      <td>28.0</td>\n      <td>NaN</td>\n    </tr>\n    <tr>\n      <th>423</th>\n      <td>47.0</td>\n      <td>30.0</td>\n      <td>NaN</td>\n    </tr>\n    <tr>\n      <th>453</th>\n      <td>15.0</td>\n      <td>42.0</td>\n      <td>NaN</td>\n    </tr>\n    <tr>\n      <th>458</th>\n      <td>23.0</td>\n      <td>50.0</td>\n      <td>NaN</td>\n    </tr>\n    <tr>\n      <th>473</th>\n      <td>24.0</td>\n      <td>4.0</td>\n      <td>NaN</td>\n    </tr>\n    <tr>\n      <th>490</th>\n      <td>16.0</td>\n      <td>1.0</td>\n      <td>NaN</td>\n    </tr>\n    <tr>\n      <th>492</th>\n      <td>NaN</td>\n      <td>6.0</td>\n      <td>25.0</td>\n    </tr>\n    <tr>\n      <th>496</th>\n      <td>57.0</td>\n      <td>NaN</td>\n      <td>80.0</td>\n    </tr>\n  </tbody>\n</table>\n</div>"
     },
     "metadata": {},
     "execution_count": 75
    }
   ],
   "source": [
    "df[df.isnull().any(axis=1)][null_columns]"
   ]
  },
  {
   "source": [
    "Verifica se existe alguma linha com mais de um valor null/nan/faltando"
   ],
   "cell_type": "markdown",
   "metadata": {}
  },
  {
   "cell_type": "code",
   "execution_count": 80,
   "metadata": {},
   "outputs": [
    {
     "output_type": "execute_result",
     "data": {
      "text/plain": [
       "46     1\n",
       "55     1\n",
       "71     1\n",
       "86     1\n",
       "97     1\n",
       "137    1\n",
       "246    1\n",
       "251    1\n",
       "255    1\n",
       "287    1\n",
       "323    1\n",
       "336    1\n",
       "372    1\n",
       "407    1\n",
       "423    1\n",
       "453    1\n",
       "458    1\n",
       "473    1\n",
       "490    1\n",
       "492    1\n",
       "496    1\n",
       "dtype: int64"
      ]
     },
     "metadata": {},
     "execution_count": 80
    }
   ],
   "source": [
    "#Aqui estamos analisando se uma linha possui um ou mais valor null, no caso, estamos somando as colunas dessa linha que possuem esse esse valor null\n",
    "#observamos que nenhuma linha possui mais de um valor null, caso existisse algum valor, como nós analisamos apenas as 3 colunas, o valor máximo de cada linha seria 3.\n",
    "df[df.isnull().any(axis=1)][null_columns].isnull().sum(axis=1)"
   ]
  },
  {
   "source": [
    "E se fossem 10.000 linhas? Como iríamos analisar se existe uma linha com mais de um valor null"
   ],
   "cell_type": "markdown",
   "metadata": {}
  },
  {
   "source": [
    "tamanho = len(df[df.isnull().any(axis=1)][null_columns].isnull().sum(axis=1)) #tamanho do vetor contendo as linhas com valores null\n",
    "soma = sum(df[df.isnull().any(axis=1)][null_columns].isnull().sum(axis=1)) #soma dos valores do vetor contendo as linhas com valores null\n",
    "if(soma == tamanho):\n",
    "    print('Não existem linhas com mais de um null/nan')\n",
    "else: \n",
    "    print('Existem linhas com mais de um valor null/nan')\n"
   ],
   "cell_type": "code",
   "metadata": {},
   "execution_count": 94,
   "outputs": [
    {
     "output_type": "stream",
     "name": "stdout",
     "text": [
      "Não existem linhas com mais de um null/nan\n"
     ]
    }
   ]
  },
  {
   "source": [
    "Teoricamente deveríamos percorrer todas as linhas de cada coluna através de um for para resolver o problema dos valores faltando.\n",
    "Se observarmos a tabela, veremos que:\n",
    "\n",
    "1 - Na linha que falta a o num_vitorias , temos num_derrotas e total_partidas. A lógia é se fazer vitorias = total partidas - derrotas.\n",
    "\n",
    "2 - Na linha que falta a o num_derrotas , temos num_vitorias e total_partidas. A lógia é se fazer derrotas = total partidas - vitorias.\n",
    "\n",
    "3 - Na linha que falta a o total_partidas , temos num_vitorias e num_derrotas. A lógia é se fazer total_partidas = derrotas + vitorias.\n",
    "\n",
    "E é justamente o que fazemos aqui no código abaixo.\n",
    "\n",
    "A função .fillna() vai preencher o local que possui um NaN com o que estiver dentro dos parênteses. Nós nem precisamos utilizar o for, pois o python entende que a operação que estamos fazendo é para todo o dataframe selecionado."
   ],
   "cell_type": "markdown",
   "metadata": {}
  },
  {
   "cell_type": "code",
   "execution_count": 1,
   "metadata": {},
   "outputs": [
    {
     "output_type": "error",
     "ename": "NameError",
     "evalue": "name 'df' is not defined",
     "traceback": [
      "\u001b[1;31m---------------------------------------------------------------------------\u001b[0m",
      "\u001b[1;31mNameError\u001b[0m                                 Traceback (most recent call last)",
      "\u001b[1;32m<ipython-input-1-9c3b8de745d8>\u001b[0m in \u001b[0;36m<module>\u001b[1;34m\u001b[0m\n\u001b[1;32m----> 1\u001b[1;33m \u001b[0mdf\u001b[0m\u001b[1;33m[\u001b[0m\u001b[1;34m'num_vitorias'\u001b[0m\u001b[1;33m]\u001b[0m \u001b[1;33m=\u001b[0m \u001b[0mdf\u001b[0m\u001b[1;33m[\u001b[0m\u001b[1;34m'num_vitorias'\u001b[0m\u001b[1;33m]\u001b[0m\u001b[1;33m.\u001b[0m\u001b[0mfillna\u001b[0m\u001b[1;33m(\u001b[0m\u001b[0mdf\u001b[0m\u001b[1;33m[\u001b[0m\u001b[1;34m'total_partidas'\u001b[0m\u001b[1;33m]\u001b[0m\u001b[1;33m-\u001b[0m\u001b[0mdf\u001b[0m\u001b[1;33m[\u001b[0m\u001b[1;34m'num_derrotas'\u001b[0m\u001b[1;33m]\u001b[0m\u001b[1;33m)\u001b[0m\u001b[1;33m;\u001b[0m\u001b[1;33m\u001b[0m\u001b[1;33m\u001b[0m\u001b[0m\n\u001b[0m\u001b[0;32m      2\u001b[0m \u001b[0mdf\u001b[0m\u001b[1;33m[\u001b[0m\u001b[1;34m'num_derrotas'\u001b[0m\u001b[1;33m]\u001b[0m \u001b[1;33m=\u001b[0m \u001b[0mdf\u001b[0m\u001b[1;33m[\u001b[0m\u001b[1;34m'num_derrotas'\u001b[0m\u001b[1;33m]\u001b[0m\u001b[1;33m.\u001b[0m\u001b[0mfillna\u001b[0m\u001b[1;33m(\u001b[0m\u001b[0mdf\u001b[0m\u001b[1;33m[\u001b[0m\u001b[1;34m'total_partidas'\u001b[0m\u001b[1;33m]\u001b[0m\u001b[1;33m-\u001b[0m\u001b[0mdf\u001b[0m\u001b[1;33m[\u001b[0m\u001b[1;34m'num_vitorias'\u001b[0m\u001b[1;33m]\u001b[0m\u001b[1;33m)\u001b[0m\u001b[1;33m;\u001b[0m\u001b[1;33m\u001b[0m\u001b[1;33m\u001b[0m\u001b[0m\n\u001b[0;32m      3\u001b[0m \u001b[0mdf\u001b[0m\u001b[1;33m[\u001b[0m\u001b[1;34m'total_partidas'\u001b[0m\u001b[1;33m]\u001b[0m \u001b[1;33m=\u001b[0m \u001b[0mdf\u001b[0m\u001b[1;33m[\u001b[0m\u001b[1;34m'total_partidas'\u001b[0m\u001b[1;33m]\u001b[0m\u001b[1;33m.\u001b[0m\u001b[0mfillna\u001b[0m\u001b[1;33m(\u001b[0m\u001b[0mdf\u001b[0m\u001b[1;33m[\u001b[0m\u001b[1;34m'num_vitorias'\u001b[0m\u001b[1;33m]\u001b[0m\u001b[1;33m+\u001b[0m\u001b[0mdf\u001b[0m\u001b[1;33m[\u001b[0m\u001b[1;34m'num_vitorias'\u001b[0m\u001b[1;33m]\u001b[0m\u001b[1;33m)\u001b[0m\u001b[1;33m;\u001b[0m\u001b[1;33m\u001b[0m\u001b[1;33m\u001b[0m\u001b[0m\n\u001b[0;32m      4\u001b[0m \u001b[1;33m\u001b[0m\u001b[0m\n",
      "\u001b[1;31mNameError\u001b[0m: name 'df' is not defined"
     ]
    }
   ],
   "source": [
    "#Aqui fazemos com que a coluna de num_vitorias receba ela mesma preenchida onde tem o valor \"NaN\" com total_partidas - total_derrotas.\n",
    "df['num_vitorias'] = df['num_vitorias'].fillna(df['total_partidas']-df['num_derrotas']);\n",
    "\n",
    "#As duas outras colunas passam pela mesma transformação\n",
    "df['num_derrotas'] = df['num_derrotas'].fillna(df['total_partidas']-df['num_vitorias']);\n",
    "df['total_partidas'] = df['total_partidas'].fillna(df['num_vitorias']+df['num_vitorias']);\n",
    "\n"
   ]
  },
  {
   "source": [
    "Como no Trabalho 2, criamos uma lista para essas duas colunas únicas afim de inseri-las no banco de dados"
   ],
   "cell_type": "markdown",
   "metadata": {}
  },
  {
   "cell_type": "code",
   "execution_count": 94,
   "metadata": {},
   "outputs": [],
   "source": [
    "paises = list(df.pais.unique());\n",
    "jogos = list(df.jogo.unique());"
   ]
  },
  {
   "source": [
    "Inserindo Países no banco de dados"
   ],
   "cell_type": "markdown",
   "metadata": {}
  },
  {
   "cell_type": "code",
   "execution_count": 95,
   "metadata": {},
   "outputs": [
    {
     "output_type": "stream",
     "name": "stdout",
     "text": [
      "Países inseridos\n"
     ]
    }
   ],
   "source": [
    "#Inserir Países\n",
    "for p in paises:\n",
    "    try:\n",
    "        #Nessa primeira etapa, vamos inserir na tabela \"bebida\" na coluna bebida, o valor de b.\n",
    "        querey = f\"\"\"insert into pais (nome_pais) \n",
    "                     values ('{p}')\"\"\"\n",
    "        conn.execute(querey)\n",
    "    except Exception as e:\n",
    "        print(f\"Não foi possível inserir o regristro {p}. O erro foi encontrado foi: {e}\")  \n",
    "print(\"Países inseridos\")"
   ]
  },
  {
   "source": [
    "Inserindo os jogos no banco de dados"
   ],
   "cell_type": "markdown",
   "metadata": {}
  },
  {
   "cell_type": "code",
   "execution_count": 96,
   "metadata": {},
   "outputs": [
    {
     "output_type": "stream",
     "name": "stdout",
     "text": [
      "Jogos inseridos\n"
     ]
    }
   ],
   "source": [
    "#Inserir Jogos\n",
    "for j in jogos:\n",
    "    try:\n",
    "        #Nessa primeira etapa, vamos inserir na tabela \"bebida\" na coluna bebida, o valor de b.\n",
    "        querey = f\"\"\"insert into jogo (nome_jogo) \n",
    "                     values ('{j}')\"\"\"\n",
    "        conn.execute(querey)\n",
    "    except Exception as e:\n",
    "        print(f\"Não foi possível inserir o regristro {j}. O erro foi encontrado foi: {e}\")  \n",
    "print(\"Jogos inseridos\")"
   ]
  },
  {
   "source": [
    "Aqui lemos as tabelas 'jogo' e 'pais' do banco de dados afim de identificar os valores dos cod_jogo e cod_pais para posterior uso no dicionário."
   ],
   "cell_type": "markdown",
   "metadata": {}
  },
  {
   "cell_type": "code",
   "execution_count": 97,
   "metadata": {},
   "outputs": [],
   "source": [
    "#Recebenbo dados do banco\n",
    "df_jogos = pd.read_sql('jogo', con=conn);\n",
    "df_paises = pd.read_sql('pais', con=conn);"
   ]
  },
  {
   "source": [
    "Criando Dicionário dos jogos e países e os substituindo no nosso dataframe."
   ],
   "cell_type": "markdown",
   "metadata": {}
  },
  {
   "cell_type": "code",
   "execution_count": 98,
   "metadata": {},
   "outputs": [],
   "source": [
    "#Criando dicionario dos jogos\n",
    "dict_jogos = df_jogos.set_index(df_jogos.nome_jogo)['cod_jogo'].to_dict();\n",
    "#Substituindo no nosso dataframe\n",
    "df.jogo = df.jogo.map(dict_jogos);\n",
    "#Criando dicionário dos países\n",
    "dict_paises = df_paises.set_index(df_paises.nome_pais)['cod_pais'].to_dict();\n",
    "#Substituindo no nosso dataframe\n",
    "df.pais = df.pais.map(dict_paises);"
   ]
  },
  {
   "source": [
    "Visualizando nosso dataframe apenas com os códigos dos países e jogos."
   ],
   "cell_type": "markdown",
   "metadata": {}
  },
  {
   "cell_type": "code",
   "execution_count": 2,
   "metadata": {},
   "outputs": [
    {
     "output_type": "error",
     "ename": "NameError",
     "evalue": "name 'df' is not defined",
     "traceback": [
      "\u001b[1;31m---------------------------------------------------------------------------\u001b[0m",
      "\u001b[1;31mNameError\u001b[0m                                 Traceback (most recent call last)",
      "\u001b[1;32m<ipython-input-2-2d03e4b2464f>\u001b[0m in \u001b[0;36m<module>\u001b[1;34m\u001b[0m\n\u001b[1;32m----> 1\u001b[1;33m \u001b[0mdf\u001b[0m\u001b[1;33m[\u001b[0m\u001b[1;33m:\u001b[0m\u001b[1;36m5\u001b[0m\u001b[1;33m]\u001b[0m\u001b[1;33m\u001b[0m\u001b[1;33m\u001b[0m\u001b[0m\n\u001b[0m",
      "\u001b[1;31mNameError\u001b[0m: name 'df' is not defined"
     ]
    }
   ],
   "source": [
    "df[:5]#primeiras 5 linhas"
   ]
  },
  {
   "source": [
    "Podemos observar que o formato da data_nascimento não é o formato padrão do python e nem é aceito pelo banco. Portanto precisamos dizer para o python qual o formato que ele se encontra para que a função to_datetime o transforme para o padrão.\n",
    "\n",
    "Observando a tabela, é possível ver que o formato utilizado é o '%d/%m/%Y'. Utilizamos esse formato dentro da função abaixo para que o python o transforme no padrão Y-m-d."
   ],
   "cell_type": "markdown",
   "metadata": {}
  },
  {
   "cell_type": "code",
   "execution_count": 113,
   "metadata": {},
   "outputs": [
    {
     "output_type": "execute_result",
     "data": {
      "text/plain": [
       "         jogador     genero data_nascimento  jogo  pais  num_vitorias  \\\n",
       "0      jogador 1  Masculino      1990-09-03     1     1          14.0   \n",
       "1      Jogador 2   Feminino      1986-05-01     2     1          39.0   \n",
       "2      Jogador 3  Masculino      1964-10-04     2     2          26.0   \n",
       "3      Jogador 4  Masculino      1979-09-28     2     3           9.0   \n",
       "4      Jogador 5  Masculino      1978-09-03     1     4           1.0   \n",
       "..           ...        ...             ...   ...   ...           ...   \n",
       "494  Jogador 495   Feminino      1974-06-03     1     1          52.0   \n",
       "495  Jogador 496  Masculino      1959-02-09     1     1          13.0   \n",
       "496  Jogador 497  Masculino      1962-01-06     2     3          57.0   \n",
       "497  Jogador 498  Masculino      1958-09-28     2     1           5.0   \n",
       "498  Jogador 499   Feminino      2004-10-08     2     5           1.0   \n",
       "\n",
       "     num_derrotas  total_partidas  \n",
       "0             0.0            14.0  \n",
       "1            20.0            59.0  \n",
       "2             3.0            29.0  \n",
       "3            72.0            81.0  \n",
       "4            54.0            55.0  \n",
       "..            ...             ...  \n",
       "494          28.0            80.0  \n",
       "495          51.0            64.0  \n",
       "496          23.0            80.0  \n",
       "497           3.0             8.0  \n",
       "498          86.0            87.0  \n",
       "\n",
       "[499 rows x 8 columns]"
      ],
      "text/html": "<div>\n<style scoped>\n    .dataframe tbody tr th:only-of-type {\n        vertical-align: middle;\n    }\n\n    .dataframe tbody tr th {\n        vertical-align: top;\n    }\n\n    .dataframe thead th {\n        text-align: right;\n    }\n</style>\n<table border=\"1\" class=\"dataframe\">\n  <thead>\n    <tr style=\"text-align: right;\">\n      <th></th>\n      <th>jogador</th>\n      <th>genero</th>\n      <th>data_nascimento</th>\n      <th>jogo</th>\n      <th>pais</th>\n      <th>num_vitorias</th>\n      <th>num_derrotas</th>\n      <th>total_partidas</th>\n    </tr>\n  </thead>\n  <tbody>\n    <tr>\n      <th>0</th>\n      <td>jogador 1</td>\n      <td>Masculino</td>\n      <td>1990-09-03</td>\n      <td>1</td>\n      <td>1</td>\n      <td>14.0</td>\n      <td>0.0</td>\n      <td>14.0</td>\n    </tr>\n    <tr>\n      <th>1</th>\n      <td>Jogador 2</td>\n      <td>Feminino</td>\n      <td>1986-05-01</td>\n      <td>2</td>\n      <td>1</td>\n      <td>39.0</td>\n      <td>20.0</td>\n      <td>59.0</td>\n    </tr>\n    <tr>\n      <th>2</th>\n      <td>Jogador 3</td>\n      <td>Masculino</td>\n      <td>1964-10-04</td>\n      <td>2</td>\n      <td>2</td>\n      <td>26.0</td>\n      <td>3.0</td>\n      <td>29.0</td>\n    </tr>\n    <tr>\n      <th>3</th>\n      <td>Jogador 4</td>\n      <td>Masculino</td>\n      <td>1979-09-28</td>\n      <td>2</td>\n      <td>3</td>\n      <td>9.0</td>\n      <td>72.0</td>\n      <td>81.0</td>\n    </tr>\n    <tr>\n      <th>4</th>\n      <td>Jogador 5</td>\n      <td>Masculino</td>\n      <td>1978-09-03</td>\n      <td>1</td>\n      <td>4</td>\n      <td>1.0</td>\n      <td>54.0</td>\n      <td>55.0</td>\n    </tr>\n    <tr>\n      <th>...</th>\n      <td>...</td>\n      <td>...</td>\n      <td>...</td>\n      <td>...</td>\n      <td>...</td>\n      <td>...</td>\n      <td>...</td>\n      <td>...</td>\n    </tr>\n    <tr>\n      <th>494</th>\n      <td>Jogador 495</td>\n      <td>Feminino</td>\n      <td>1974-06-03</td>\n      <td>1</td>\n      <td>1</td>\n      <td>52.0</td>\n      <td>28.0</td>\n      <td>80.0</td>\n    </tr>\n    <tr>\n      <th>495</th>\n      <td>Jogador 496</td>\n      <td>Masculino</td>\n      <td>1959-02-09</td>\n      <td>1</td>\n      <td>1</td>\n      <td>13.0</td>\n      <td>51.0</td>\n      <td>64.0</td>\n    </tr>\n    <tr>\n      <th>496</th>\n      <td>Jogador 497</td>\n      <td>Masculino</td>\n      <td>1962-01-06</td>\n      <td>2</td>\n      <td>3</td>\n      <td>57.0</td>\n      <td>23.0</td>\n      <td>80.0</td>\n    </tr>\n    <tr>\n      <th>497</th>\n      <td>Jogador 498</td>\n      <td>Masculino</td>\n      <td>1958-09-28</td>\n      <td>2</td>\n      <td>1</td>\n      <td>5.0</td>\n      <td>3.0</td>\n      <td>8.0</td>\n    </tr>\n    <tr>\n      <th>498</th>\n      <td>Jogador 499</td>\n      <td>Feminino</td>\n      <td>2004-10-08</td>\n      <td>2</td>\n      <td>5</td>\n      <td>1.0</td>\n      <td>86.0</td>\n      <td>87.0</td>\n    </tr>\n  </tbody>\n</table>\n<p>499 rows × 8 columns</p>\n</div>"
     },
     "metadata": {},
     "execution_count": 113
    }
   ],
   "source": [
    "\n",
    "df.data_nascimento = pd.to_datetime(df['data_nascimento'], format='%d/%m/%Y')\n",
    "df"
   ]
  },
  {
   "source": [
    "Armazenamento padrão que já aprendemos nas outras aulas"
   ],
   "cell_type": "markdown",
   "metadata": {}
  },
  {
   "cell_type": "code",
   "execution_count": 114,
   "metadata": {
    "tags": [
     "outputPrepend"
    ]
   },
   "outputs": [
    {
     "output_type": "stream",
     "name": "stdout",
     "text": [
      "ador 33\n",
      "Registro inserido com sucesso: Jogador 34\n",
      "Registro inserido com sucesso: Jogador 35\n",
      "Registro inserido com sucesso: Jogador 36\n",
      "Registro inserido com sucesso: Jogador 37\n",
      "Registro inserido com sucesso: Jogador 38\n",
      "Registro inserido com sucesso: Jogador 39\n",
      "Registro inserido com sucesso: Jogador 40\n",
      "Registro inserido com sucesso: Jogador 41\n",
      "Registro inserido com sucesso: Jogador 42\n",
      "Registro inserido com sucesso: Jogador 43\n",
      "Registro inserido com sucesso: Jogador 44\n",
      "Registro inserido com sucesso: Jogador 45\n",
      "Registro inserido com sucesso: Jogador 46\n",
      "Registro inserido com sucesso: Jogador 47\n",
      "Registro inserido com sucesso: Jogador 48\n",
      "Registro inserido com sucesso: Jogador 49\n",
      "Registro inserido com sucesso: Jogador 50\n",
      "Registro inserido com sucesso: Jogador 51\n",
      "Registro inserido com sucesso: Jogador 52\n",
      "Registro inserido com sucesso: Jogador 53\n",
      "Registro inserido com sucesso: Jogador 54\n",
      "Registro inserido com sucesso: Jogador 55\n",
      "Registro inserido com sucesso: Jogador 56\n",
      "Registro inserido com sucesso: Jogador 57\n",
      "Registro inserido com sucesso: Jogador 58\n",
      "Registro inserido com sucesso: Jogador 59\n",
      "Registro inserido com sucesso: Jogador 60\n",
      "Registro inserido com sucesso: Jogador 61\n",
      "Registro inserido com sucesso: Jogador 62\n",
      "Registro inserido com sucesso: Jogador 63\n",
      "Registro inserido com sucesso: Jogador 64\n",
      "Registro inserido com sucesso: Jogador 65\n",
      "Registro inserido com sucesso: Jogador 66\n",
      "Registro inserido com sucesso: Jogador 67\n",
      "Registro inserido com sucesso: Jogador 68\n",
      "Registro inserido com sucesso: Jogador 69\n",
      "Registro inserido com sucesso: Jogador 70\n",
      "Registro inserido com sucesso: Jogador 71\n",
      "Registro inserido com sucesso: Jogador 72\n",
      "Registro inserido com sucesso: Jogador 73\n",
      "Registro inserido com sucesso: Jogador 74\n",
      "Registro inserido com sucesso: Jogador 75\n",
      "Registro inserido com sucesso: Jogador 76\n",
      "Registro inserido com sucesso: Jogador 77\n",
      "Registro inserido com sucesso: Jogador 78\n",
      "Registro inserido com sucesso: Jogador 79\n",
      "Registro inserido com sucesso: Jogador 80\n",
      "Registro inserido com sucesso: Jogador 81\n",
      "Registro inserido com sucesso: Jogador 82\n",
      "Registro inserido com sucesso: Jogador 83\n",
      "Registro inserido com sucesso: Jogador 84\n",
      "Registro inserido com sucesso: Jogador 85\n",
      "Registro inserido com sucesso: Jogador 86\n",
      "Registro inserido com sucesso: Jogador 87\n",
      "Registro inserido com sucesso: Jogador 88\n",
      "Registro inserido com sucesso: Jogador 89\n",
      "Registro inserido com sucesso: Jogador 90\n",
      "Registro inserido com sucesso: Jogador 91\n",
      "Registro inserido com sucesso: Jogador 92\n",
      "Registro inserido com sucesso: Jogador 93\n",
      "Registro inserido com sucesso: Jogador 94\n",
      "Registro inserido com sucesso: Jogador 95\n",
      "Registro inserido com sucesso: Jogador 96\n",
      "Registro inserido com sucesso: Jogador 97\n",
      "Registro inserido com sucesso: Jogador 98\n",
      "Registro inserido com sucesso: Jogador 99\n",
      "Registro inserido com sucesso: Jogador 100\n",
      "Registro inserido com sucesso: Jogador 101\n",
      "Registro inserido com sucesso: Jogador 102\n",
      "Registro inserido com sucesso: Jogador 103\n",
      "Registro inserido com sucesso: Jogador 104\n",
      "Registro inserido com sucesso: Jogador 105\n",
      "Registro inserido com sucesso: Jogador 106\n",
      "Registro inserido com sucesso: Jogador 107\n",
      "Registro inserido com sucesso: Jogador 108\n",
      "Registro inserido com sucesso: Jogador 109\n",
      "Registro inserido com sucesso: Jogador 110\n",
      "Registro inserido com sucesso: Jogador 111\n",
      "Registro inserido com sucesso: Jogador 112\n",
      "Registro inserido com sucesso: Jogador 113\n",
      "Registro inserido com sucesso: Jogador 114\n",
      "Registro inserido com sucesso: Jogador 115\n",
      "Registro inserido com sucesso: Jogador 116\n",
      "Registro inserido com sucesso: Jogador 117\n",
      "Registro inserido com sucesso: Jogador 118\n",
      "Registro inserido com sucesso: Jogador 119\n",
      "Registro inserido com sucesso: Jogador 120\n",
      "Registro inserido com sucesso: Jogador 121\n",
      "Registro inserido com sucesso: Jogador 122\n",
      "Registro inserido com sucesso: Jogador 123\n",
      "Registro inserido com sucesso: Jogador 124\n",
      "Registro inserido com sucesso: Jogador 125\n",
      "Registro inserido com sucesso: Jogador 126\n",
      "Registro inserido com sucesso: Jogador 127\n",
      "Registro inserido com sucesso: Jogador 128\n",
      "Registro inserido com sucesso: Jogador 129\n",
      "Registro inserido com sucesso: Jogador 130\n",
      "Registro inserido com sucesso: Jogador 131\n",
      "Registro inserido com sucesso: Jogador 132\n",
      "Registro inserido com sucesso: Jogador 133\n",
      "Registro inserido com sucesso: Jogador 134\n",
      "Registro inserido com sucesso: Jogador 135\n",
      "Registro inserido com sucesso: Jogador 136\n",
      "Registro inserido com sucesso: Jogador 137\n",
      "Registro inserido com sucesso: Jogador 138\n",
      "Registro inserido com sucesso: Jogador 139\n",
      "Registro inserido com sucesso: Jogador 140\n",
      "Registro inserido com sucesso: Jogador 141\n",
      "Registro inserido com sucesso: Jogador 142\n",
      "Registro inserido com sucesso: Jogador 143\n",
      "Registro inserido com sucesso: Jogador 144\n",
      "Registro inserido com sucesso: Jogador 145\n",
      "Registro inserido com sucesso: Jogador 146\n",
      "Registro inserido com sucesso: Jogador 147\n",
      "Registro inserido com sucesso: Jogador 148\n",
      "Registro inserido com sucesso: Jogador 149\n",
      "Registro inserido com sucesso: Jogador 150\n",
      "Registro inserido com sucesso: Jogador 151\n",
      "Registro inserido com sucesso: Jogador 152\n",
      "Registro inserido com sucesso: Jogador 153\n",
      "Registro inserido com sucesso: Jogador 154\n",
      "Registro inserido com sucesso: Jogador 155\n",
      "Registro inserido com sucesso: Jogador 156\n",
      "Registro inserido com sucesso: Jogador 157\n",
      "Registro inserido com sucesso: Jogador 158\n",
      "Registro inserido com sucesso: Jogador 159\n",
      "Registro inserido com sucesso: Jogador 160\n",
      "Registro inserido com sucesso: Jogador 161\n",
      "Registro inserido com sucesso: Jogador 162\n",
      "Registro inserido com sucesso: Jogador 163\n",
      "Registro inserido com sucesso: Jogador 164\n",
      "Registro inserido com sucesso: Jogador 165\n",
      "Registro inserido com sucesso: Jogador 166\n",
      "Registro inserido com sucesso: Jogador 167\n",
      "Registro inserido com sucesso: Jogador 168\n",
      "Registro inserido com sucesso: Jogador 169\n",
      "Registro inserido com sucesso: Jogador 170\n",
      "Registro inserido com sucesso: Jogador 171\n",
      "Registro inserido com sucesso: Jogador 172\n",
      "Registro inserido com sucesso: Jogador 173\n",
      "Registro inserido com sucesso: Jogador 174\n",
      "Registro inserido com sucesso: Jogador 175\n",
      "Registro inserido com sucesso: Jogador 176\n",
      "Registro inserido com sucesso: Jogador 177\n",
      "Registro inserido com sucesso: Jogador 178\n",
      "Registro inserido com sucesso: Jogador 179\n",
      "Registro inserido com sucesso: Jogador 180\n",
      "Registro inserido com sucesso: Jogador 181\n",
      "Registro inserido com sucesso: Jogador 182\n",
      "Registro inserido com sucesso: Jogador 183\n",
      "Registro inserido com sucesso: Jogador 184\n",
      "Registro inserido com sucesso: Jogador 185\n",
      "Registro inserido com sucesso: Jogador 186\n",
      "Registro inserido com sucesso: Jogador 187\n",
      "Registro inserido com sucesso: Jogador 188\n",
      "Registro inserido com sucesso: Jogador 189\n",
      "Registro inserido com sucesso: Jogador 190\n",
      "Registro inserido com sucesso: Jogador 191\n",
      "Registro inserido com sucesso: Jogador 192\n",
      "Registro inserido com sucesso: Jogador 193\n",
      "Registro inserido com sucesso: Jogador 194\n",
      "Registro inserido com sucesso: Jogador 195\n",
      "Registro inserido com sucesso: Jogador 196\n",
      "Registro inserido com sucesso: Jogador 197\n",
      "Registro inserido com sucesso: Jogador 198\n",
      "Registro inserido com sucesso: Jogador 199\n",
      "Registro inserido com sucesso: Jogador 200\n",
      "Registro inserido com sucesso: Jogador 201\n",
      "Registro inserido com sucesso: Jogador 202\n",
      "Registro inserido com sucesso: Jogador 203\n",
      "Registro inserido com sucesso: Jogador 204\n",
      "Registro inserido com sucesso: Jogador 205\n",
      "Registro inserido com sucesso: Jogador 206\n",
      "Registro inserido com sucesso: Jogador 207\n",
      "Registro inserido com sucesso: Jogador 208\n",
      "Registro inserido com sucesso: Jogador 209\n",
      "Registro inserido com sucesso: Jogador 210\n",
      "Registro inserido com sucesso: Jogador 211\n",
      "Registro inserido com sucesso: Jogador 212\n",
      "Registro inserido com sucesso: Jogador 213\n",
      "Registro inserido com sucesso: Jogador 214\n",
      "Registro inserido com sucesso: Jogador 215\n",
      "Registro inserido com sucesso: Jogador 216\n",
      "Registro inserido com sucesso: Jogador 217\n",
      "Registro inserido com sucesso: Jogador 218\n",
      "Registro inserido com sucesso: Jogador 219\n",
      "Registro inserido com sucesso: Jogador 220\n",
      "Registro inserido com sucesso: Jogador 221\n",
      "Registro inserido com sucesso: Jogador 222\n",
      "Registro inserido com sucesso: Jogador 223\n",
      "Registro inserido com sucesso: Jogador 224\n",
      "Registro inserido com sucesso: Jogador 225\n",
      "Registro inserido com sucesso: Jogador 226\n",
      "Registro inserido com sucesso: Jogador 227\n",
      "Registro inserido com sucesso: Jogador 228\n",
      "Registro inserido com sucesso: Jogador 229\n",
      "Registro inserido com sucesso: Jogador 230\n",
      "Registro inserido com sucesso: Jogador 231\n",
      "Registro inserido com sucesso: Jogador 232\n",
      "Registro inserido com sucesso: Jogador 233\n",
      "Registro inserido com sucesso: Jogador 234\n",
      "Registro inserido com sucesso: Jogador 235\n",
      "Registro inserido com sucesso: Jogador 236\n",
      "Registro inserido com sucesso: Jogador 237\n",
      "Registro inserido com sucesso: Jogador 238\n",
      "Registro inserido com sucesso: Jogador 239\n",
      "Registro inserido com sucesso: Jogador 240\n",
      "Registro inserido com sucesso: Jogador 241\n",
      "Registro inserido com sucesso: Jogador 242\n",
      "Registro inserido com sucesso: Jogador 243\n",
      "Registro inserido com sucesso: Jogador 244\n",
      "Registro inserido com sucesso: Jogador 245\n",
      "Registro inserido com sucesso: Jogador 246\n",
      "Registro inserido com sucesso: Jogador 247\n",
      "Registro inserido com sucesso: Jogador 248\n",
      "Registro inserido com sucesso: Jogador 249\n",
      "Registro inserido com sucesso: Jogador 250\n",
      "Registro inserido com sucesso: Jogador 251\n",
      "Registro inserido com sucesso: Jogador 252\n",
      "Registro inserido com sucesso: Jogador 253\n",
      "Registro inserido com sucesso: Jogador 254\n",
      "Registro inserido com sucesso: Jogador 255\n",
      "Registro inserido com sucesso: Jogador 256\n",
      "Registro inserido com sucesso: Jogador 257\n",
      "Registro inserido com sucesso: Jogador 258\n",
      "Registro inserido com sucesso: Jogador 259\n",
      "Registro inserido com sucesso: Jogador 260\n",
      "Registro inserido com sucesso: Jogador 261\n",
      "Registro inserido com sucesso: Jogador 262\n",
      "Registro inserido com sucesso: Jogador 263\n",
      "Registro inserido com sucesso: Jogador 264\n",
      "Registro inserido com sucesso: Jogador 265\n",
      "Registro inserido com sucesso: Jogador 266\n",
      "Registro inserido com sucesso: Jogador 267\n",
      "Registro inserido com sucesso: Jogador 268\n",
      "Registro inserido com sucesso: Jogador 269\n",
      "Registro inserido com sucesso: Jogador 270\n",
      "Registro inserido com sucesso: Jogador 271\n",
      "Registro inserido com sucesso: Jogador 272\n",
      "Registro inserido com sucesso: Jogador 273\n",
      "Registro inserido com sucesso: Jogador 274\n",
      "Registro inserido com sucesso: Jogador 275\n",
      "Registro inserido com sucesso: Jogador 276\n",
      "Registro inserido com sucesso: Jogador 277\n",
      "Registro inserido com sucesso: Jogador 278\n",
      "Registro inserido com sucesso: Jogador 279\n",
      "Registro inserido com sucesso: Jogador 280\n",
      "Registro inserido com sucesso: Jogador 281\n",
      "Registro inserido com sucesso: Jogador 282\n",
      "Registro inserido com sucesso: Jogador 283\n",
      "Registro inserido com sucesso: Jogador 284\n",
      "Registro inserido com sucesso: Jogador 285\n",
      "Registro inserido com sucesso: Jogador 286\n",
      "Registro inserido com sucesso: Jogador 287\n",
      "Registro inserido com sucesso: Jogador 288\n",
      "Registro inserido com sucesso: Jogador 289\n",
      "Registro inserido com sucesso: Jogador 290\n",
      "Registro inserido com sucesso: Jogador 291\n",
      "Registro inserido com sucesso: Jogador 292\n",
      "Registro inserido com sucesso: Jogador 293\n",
      "Registro inserido com sucesso: Jogador 294\n",
      "Registro inserido com sucesso: Jogador 295\n",
      "Registro inserido com sucesso: Jogador 296\n",
      "Registro inserido com sucesso: Jogador 297\n",
      "Registro inserido com sucesso: Jogador 298\n",
      "Registro inserido com sucesso: Jogador 299\n",
      "Registro inserido com sucesso: Jogador 300\n",
      "Registro inserido com sucesso: Jogador 301\n",
      "Registro inserido com sucesso: Jogador 302\n",
      "Registro inserido com sucesso: Jogador 303\n",
      "Registro inserido com sucesso: Jogador 304\n",
      "Registro inserido com sucesso: Jogador 305\n",
      "Registro inserido com sucesso: Jogador 306\n",
      "Registro inserido com sucesso: Jogador 307\n",
      "Registro inserido com sucesso: Jogador 308\n",
      "Registro inserido com sucesso: Jogador 309\n",
      "Registro inserido com sucesso: Jogador 310\n",
      "Registro inserido com sucesso: Jogador 311\n",
      "Registro inserido com sucesso: Jogador 312\n",
      "Registro inserido com sucesso: Jogador 313\n",
      "Registro inserido com sucesso: Jogador 314\n",
      "Registro inserido com sucesso: Jogador 315\n",
      "Registro inserido com sucesso: Jogador 316\n",
      "Registro inserido com sucesso: Jogador 317\n",
      "Registro inserido com sucesso: Jogador 318\n",
      "Registro inserido com sucesso: Jogador 319\n",
      "Registro inserido com sucesso: Jogador 320\n",
      "Registro inserido com sucesso: Jogador 321\n",
      "Registro inserido com sucesso: Jogador 322\n",
      "Registro inserido com sucesso: Jogador 323\n",
      "Registro inserido com sucesso: Jogador 324\n",
      "Registro inserido com sucesso: Jogador 325\n",
      "Registro inserido com sucesso: Jogador 326\n",
      "Registro inserido com sucesso: Jogador 327\n",
      "Registro inserido com sucesso: Jogador 328\n",
      "Registro inserido com sucesso: Jogador 329\n",
      "Registro inserido com sucesso: Jogador 330\n",
      "Registro inserido com sucesso: Jogador 331\n",
      "Registro inserido com sucesso: Jogador 332\n",
      "Registro inserido com sucesso: Jogador 333\n",
      "Registro inserido com sucesso: Jogador 334\n",
      "Registro inserido com sucesso: Jogador 335\n",
      "Registro inserido com sucesso: Jogador 336\n",
      "Registro inserido com sucesso: Jogador 337\n",
      "Registro inserido com sucesso: Jogador 338\n",
      "Registro inserido com sucesso: Jogador 339\n",
      "Registro inserido com sucesso: Jogador 340\n",
      "Registro inserido com sucesso: Jogador 341\n",
      "Registro inserido com sucesso: Jogador 342\n",
      "Registro inserido com sucesso: Jogador 343\n",
      "Registro inserido com sucesso: Jogador 344\n",
      "Registro inserido com sucesso: Jogador 345\n",
      "Registro inserido com sucesso: Jogador 346\n",
      "Registro inserido com sucesso: Jogador 347\n",
      "Registro inserido com sucesso: Jogador 348\n",
      "Registro inserido com sucesso: Jogador 349\n",
      "Registro inserido com sucesso: Jogador 350\n",
      "Registro inserido com sucesso: Jogador 351\n",
      "Registro inserido com sucesso: Jogador 352\n",
      "Registro inserido com sucesso: Jogador 353\n",
      "Registro inserido com sucesso: Jogador 354\n",
      "Registro inserido com sucesso: Jogador 355\n",
      "Registro inserido com sucesso: Jogador 356\n",
      "Registro inserido com sucesso: Jogador 357\n",
      "Registro inserido com sucesso: Jogador 358\n",
      "Registro inserido com sucesso: Jogador 359\n",
      "Registro inserido com sucesso: Jogador 360\n",
      "Registro inserido com sucesso: Jogador 361\n",
      "Registro inserido com sucesso: Jogador 362\n",
      "Registro inserido com sucesso: Jogador 363\n",
      "Registro inserido com sucesso: Jogador 364\n",
      "Registro inserido com sucesso: Jogador 365\n",
      "Registro inserido com sucesso: Jogador 366\n",
      "Registro inserido com sucesso: Jogador 367\n",
      "Registro inserido com sucesso: Jogador 368\n",
      "Registro inserido com sucesso: Jogador 369\n",
      "Registro inserido com sucesso: Jogador 370\n",
      "Registro inserido com sucesso: Jogador 371\n",
      "Registro inserido com sucesso: Jogador 372\n",
      "Registro inserido com sucesso: Jogador 373\n",
      "Registro inserido com sucesso: Jogador 374\n",
      "Registro inserido com sucesso: Jogador 375\n",
      "Registro inserido com sucesso: Jogador 376\n",
      "Registro inserido com sucesso: Jogador 377\n",
      "Registro inserido com sucesso: Jogador 378\n",
      "Registro inserido com sucesso: Jogador 379\n",
      "Registro inserido com sucesso: Jogador 380\n",
      "Registro inserido com sucesso: Jogador 381\n",
      "Registro inserido com sucesso: Jogador 382\n",
      "Registro inserido com sucesso: Jogador 383\n",
      "Registro inserido com sucesso: Jogador 384\n",
      "Registro inserido com sucesso: Jogador 385\n",
      "Registro inserido com sucesso: Jogador 386\n",
      "Registro inserido com sucesso: Jogador 387\n",
      "Registro inserido com sucesso: Jogador 388\n",
      "Registro inserido com sucesso: Jogador 389\n",
      "Registro inserido com sucesso: Jogador 390\n",
      "Registro inserido com sucesso: Jogador 391\n",
      "Registro inserido com sucesso: Jogador 392\n",
      "Registro inserido com sucesso: Jogador 393\n",
      "Registro inserido com sucesso: Jogador 394\n",
      "Registro inserido com sucesso: Jogador 395\n",
      "Registro inserido com sucesso: Jogador 396\n",
      "Registro inserido com sucesso: Jogador 397\n",
      "Registro inserido com sucesso: Jogador 398\n",
      "Registro inserido com sucesso: Jogador 399\n",
      "Registro inserido com sucesso: Jogador 400\n",
      "Registro inserido com sucesso: Jogador 401\n",
      "Registro inserido com sucesso: Jogador 402\n",
      "Registro inserido com sucesso: Jogador 403\n",
      "Registro inserido com sucesso: Jogador 404\n",
      "Registro inserido com sucesso: Jogador 405\n",
      "Registro inserido com sucesso: Jogador 406\n",
      "Registro inserido com sucesso: Jogador 407\n",
      "Registro inserido com sucesso: Jogador 408\n",
      "Registro inserido com sucesso: Jogador 409\n",
      "Registro inserido com sucesso: Jogador 410\n",
      "Registro inserido com sucesso: Jogador 411\n",
      "Registro inserido com sucesso: Jogador 412\n",
      "Registro inserido com sucesso: Jogador 413\n",
      "Registro inserido com sucesso: Jogador 414\n",
      "Registro inserido com sucesso: Jogador 415\n",
      "Registro inserido com sucesso: Jogador 416\n",
      "Registro inserido com sucesso: Jogador 417\n",
      "Registro inserido com sucesso: Jogador 418\n",
      "Registro inserido com sucesso: Jogador 419\n",
      "Registro inserido com sucesso: Jogador 420\n",
      "Registro inserido com sucesso: Jogador 421\n",
      "Registro inserido com sucesso: Jogador 422\n",
      "Registro inserido com sucesso: Jogador 423\n",
      "Registro inserido com sucesso: Jogador 424\n",
      "Registro inserido com sucesso: Jogador 425\n",
      "Registro inserido com sucesso: Jogador 426\n",
      "Registro inserido com sucesso: Jogador 427\n",
      "Registro inserido com sucesso: Jogador 428\n",
      "Registro inserido com sucesso: Jogador 429\n",
      "Registro inserido com sucesso: Jogador 430\n",
      "Registro inserido com sucesso: Jogador 431\n",
      "Registro inserido com sucesso: Jogador 432\n",
      "Registro inserido com sucesso: Jogador 433\n",
      "Registro inserido com sucesso: Jogador 434\n",
      "Registro inserido com sucesso: Jogador 435\n",
      "Registro inserido com sucesso: Jogador 436\n",
      "Registro inserido com sucesso: Jogador 437\n",
      "Registro inserido com sucesso: Jogador 438\n",
      "Registro inserido com sucesso: Jogador 439\n",
      "Registro inserido com sucesso: Jogador 440\n",
      "Registro inserido com sucesso: Jogador 441\n",
      "Registro inserido com sucesso: Jogador 442\n",
      "Registro inserido com sucesso: Jogador 443\n",
      "Registro inserido com sucesso: Jogador 444\n",
      "Registro inserido com sucesso: Jogador 445\n",
      "Registro inserido com sucesso: Jogador 446\n",
      "Registro inserido com sucesso: Jogador 447\n",
      "Registro inserido com sucesso: Jogador 448\n",
      "Registro inserido com sucesso: Jogador 449\n",
      "Registro inserido com sucesso: Jogador 450\n",
      "Registro inserido com sucesso: Jogador 451\n",
      "Registro inserido com sucesso: Jogador 452\n",
      "Registro inserido com sucesso: Jogador 453\n",
      "Registro inserido com sucesso: Jogador 454\n",
      "Registro inserido com sucesso: Jogador 455\n",
      "Registro inserido com sucesso: Jogador 456\n",
      "Registro inserido com sucesso: Jogador 457\n",
      "Registro inserido com sucesso: Jogador 458\n",
      "Registro inserido com sucesso: Jogador 459\n",
      "Registro inserido com sucesso: Jogador 460\n",
      "Registro inserido com sucesso: Jogador 461\n",
      "Registro inserido com sucesso: Jogador 462\n",
      "Registro inserido com sucesso: Jogador 463\n",
      "Registro inserido com sucesso: Jogador 464\n",
      "Registro inserido com sucesso: Jogador 465\n",
      "Registro inserido com sucesso: Jogador 466\n",
      "Registro inserido com sucesso: Jogador 467\n",
      "Registro inserido com sucesso: Jogador 468\n",
      "Registro inserido com sucesso: Jogador 469\n",
      "Registro inserido com sucesso: Jogador 470\n",
      "Registro inserido com sucesso: Jogador 471\n",
      "Registro inserido com sucesso: Jogador 472\n",
      "Registro inserido com sucesso: Jogador 473\n",
      "Registro inserido com sucesso: Jogador 474\n",
      "Registro inserido com sucesso: Jogador 475\n",
      "Registro inserido com sucesso: Jogador 476\n",
      "Registro inserido com sucesso: Jogador 477\n",
      "Registro inserido com sucesso: Jogador 478\n",
      "Registro inserido com sucesso: Jogador 479\n",
      "Registro inserido com sucesso: Jogador 480\n",
      "Registro inserido com sucesso: Jogador 481\n",
      "Registro inserido com sucesso: Jogador 482\n",
      "Registro inserido com sucesso: Jogador 483\n",
      "Registro inserido com sucesso: Jogador 484\n",
      "Registro inserido com sucesso: Jogador 485\n",
      "Registro inserido com sucesso: Jogador 486\n",
      "Registro inserido com sucesso: Jogador 487\n",
      "Registro inserido com sucesso: Jogador 488\n",
      "Registro inserido com sucesso: Jogador 489\n",
      "Registro inserido com sucesso: Jogador 490\n",
      "Registro inserido com sucesso: Jogador 491\n",
      "Registro inserido com sucesso: Jogador 492\n",
      "Registro inserido com sucesso: Jogador 493\n",
      "Registro inserido com sucesso: Jogador 494\n",
      "Registro inserido com sucesso: Jogador 495\n",
      "Registro inserido com sucesso: Jogador 496\n",
      "Registro inserido com sucesso: Jogador 497\n",
      "Registro inserido com sucesso: Jogador 498\n",
      "Registro inserido com sucesso: Jogador 499\n",
      "Jogadores Inseridos\n"
     ]
    }
   ],
   "source": [
    "for j in df.itertuples():\n",
    "    nome_jogador = j.jogador\n",
    "    genero = j.genero\n",
    "    data_nascimento = j.data_nascimento\n",
    "    cod_jogo = j.jogo\n",
    "    cod_pais = j.pais\n",
    "    num_vitorias = j.num_vitorias\n",
    "    num_derrotas = j.num_derrotas\n",
    "    total_partidas = j.total_partidas\n",
    "    try:\n",
    "        querey = f\"\"\"insert into jogador (nome_jogador, genero, data_nascimento, cod_pais, cod_jogo, num_vitorias, num_derrotas, total_partidas)\n",
    "                     values ('{nome_jogador}',  '{genero}', '{data_nascimento}', '{cod_pais}','{cod_jogo}', '{num_vitorias}', '{num_derrotas}', '{total_partidas}')\"\"\"  \n",
    "        conn.execute(querey) #enviar soliciatação par inserir      \n",
    "        print(f\"Registro inserido com sucesso: {nome_jogador}\") #Se ocorrer tudo bem\n",
    "    except Exception as e:        \n",
    "        print(f\"Não foi possível inserir o regristro {nome_jogador}. O erro foi encontrado foi: {e}\") #Se houver algum erro\n",
    "print(\"Jogadores Inseridos\")"
   ]
  },
  {
   "cell_type": "code",
   "execution_count": null,
   "metadata": {},
   "outputs": [],
   "source": []
  }
 ]
}