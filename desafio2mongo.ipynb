{
 "metadata": {
  "language_info": {
   "codemirror_mode": {
    "name": "ipython",
    "version": 3
   },
   "file_extension": ".py",
   "mimetype": "text/x-python",
   "name": "python",
   "nbconvert_exporter": "python",
   "pygments_lexer": "ipython3",
   "version": "3.9.1-final"
  },
  "orig_nbformat": 2,
  "kernelspec": {
   "name": "python3",
   "display_name": "Python 3.9.1 64-bit",
   "metadata": {
    "interpreter": {
     "hash": "92237062529a7dfad5db2170781e2ae2a26d776f3e84984f0f74275a2cb5ec83"
    }
   }
  }
 },
 "nbformat": 4,
 "nbformat_minor": 2,
 "cells": [
  {
   "source": [
    "Importando as bibliotecas"
   ],
   "cell_type": "markdown",
   "metadata": {}
  },
  {
   "cell_type": "code",
   "execution_count": 1,
   "metadata": {},
   "outputs": [],
   "source": [
    "import pandas as pd \n",
    "import os\n",
    "from pymongo import MongoClient\n",
    "import tweepy as tw\n",
    "import json\n",
    "import pprint\n",
    "import re"
   ]
  },
  {
   "source": [
    "Fazendo a conexão com o MongoDB"
   ],
   "cell_type": "markdown",
   "metadata": {}
  },
  {
   "cell_type": "code",
   "execution_count": 2,
   "metadata": {},
   "outputs": [
    {
     "output_type": "execute_result",
     "data": {
      "text/plain": [
       "pymongo.mongo_client.MongoClient"
      ]
     },
     "metadata": {},
     "execution_count": 2
    }
   ],
   "source": [
    "conn = MongoClient('localhost', 27017)\n",
    "type(conn)"
   ]
  },
  {
   "source": [
    "Aqui criaremos o banco de dados onde vamos armazenas os nossos dados. \"dbchess\""
   ],
   "cell_type": "markdown",
   "metadata": {}
  },
  {
   "cell_type": "code",
   "execution_count": 3,
   "metadata": {},
   "outputs": [],
   "source": [
    "db = conn.dbchess"
   ]
  },
  {
   "source": [
    "Criação da coleção \"chess_players\""
   ],
   "cell_type": "markdown",
   "metadata": {}
  },
  {
   "cell_type": "code",
   "execution_count": 4,
   "metadata": {},
   "outputs": [],
   "source": [
    "collection = db.chess_players"
   ]
  },
  {
   "source": [
    "Leitura do arquivo .json"
   ],
   "cell_type": "markdown",
   "metadata": {}
  },
  {
   "cell_type": "code",
   "execution_count": 43,
   "metadata": {},
   "outputs": [],
   "source": [
    "with open('json/lista_jogadores_chess.json', 'r') as file:\n",
    "    arquivo = file.read()\n"
   ]
  },
  {
   "source": [
    "Observar qual a(s) key(s) que se encontram no arquivo para posterior uso"
   ],
   "cell_type": "markdown",
   "metadata": {}
  },
  {
   "cell_type": "code",
   "execution_count": 59,
   "metadata": {},
   "outputs": [
    {
     "output_type": "execute_result",
     "data": {
      "text/plain": [
       "dict_keys(['user'])"
      ]
     },
     "metadata": {},
     "execution_count": 59
    }
   ],
   "source": [
    "json_dados = json.loads(arquivo)\n",
    "json_dados.keys()"
   ]
  },
  {
   "source": [
    "Identificamos a key 'user', então vamos utilizá-la.\n",
    "\n",
    "Podemos observar que é muito mais simples inserir os dados no MongoDB do que no SQL."
   ],
   "cell_type": "markdown",
   "metadata": {}
  },
  {
   "cell_type": "code",
   "execution_count": 60,
   "metadata": {},
   "outputs": [],
   "source": [
    "for dado in json_dados['user']:\n",
    "    dado_id = collection.insert_one(dado)\n",
    "    dado_id.inserted_id\n"
   ]
  },
  {
   "source": [],
   "cell_type": "markdown",
   "metadata": {}
  },
  {
   "source": [
    "db.chess_players.find_one()"
   ],
   "cell_type": "code",
   "metadata": {},
   "execution_count": 152,
   "outputs": [
    {
     "output_type": "execute_result",
     "data": {
      "text/plain": [
       "{'_id': ObjectId('605d3b8549a0d5026920d2c4'),\n",
       " 'avatar': 'https://images.chesscomfiles.com/uploads/v1/user/18800602.e26b721f.200x200o.e738019a328a.jpeg',\n",
       " 'player_id': 18800602,\n",
       " '@id': 'https://api.chess.com/pub/player/123lt',\n",
       " 'url': 'https://www.chess.com/member/123lt',\n",
       " 'name': 'Tingjie Lei',\n",
       " 'username': '123lt',\n",
       " 'title': 'GM',\n",
       " 'followers': 36,\n",
       " 'country': 'https://api.chess.com/pub/country/CN',\n",
       " 'last_online': 1615967972,\n",
       " 'joined': 1410059361,\n",
       " 'status': 'premium',\n",
       " 'is_streamer': False}"
      ]
     },
     "metadata": {},
     "execution_count": 152
    }
   ]
  },
  {
   "source": [
    "P6 - Quantos registros possuem na base de dados do chess?"
   ],
   "cell_type": "markdown",
   "metadata": {}
  },
  {
   "source": [
    "db.chess_players.estimated_document_count()\n"
   ],
   "cell_type": "code",
   "metadata": {},
   "execution_count": 210,
   "outputs": [
    {
     "output_type": "execute_result",
     "data": {
      "text/plain": [
       "1332"
      ]
     },
     "metadata": {},
     "execution_count": 210
    }
   ]
  },
  {
   "source": [
    "P7 - Quantos jogadores são do Brasil?"
   ],
   "cell_type": "markdown",
   "metadata": {}
  },
  {
   "cell_type": "code",
   "execution_count": 231,
   "metadata": {},
   "outputs": [
    {
     "output_type": "execute_result",
     "data": {
      "text/plain": [
       "16"
      ]
     },
     "metadata": {},
     "execution_count": 231
    }
   ],
   "source": [
    "db.chess_players.count_documents({\n",
    "    'country' : {'$regex': 'BR$'} \n",
    "})\n"
   ]
  },
  {
   "source": [
    "P8 - Quantos seguidores (número de pessoas) possue o jogador Rafael Leitao?"
   ],
   "cell_type": "markdown",
   "metadata": {}
  },
  {
   "source": [
    "db.chess_players.find_one(\n",
    "    {'name' : 'Rafael Leitao'},\n",
    "    {'followers' : 1 , '_id' : 0}\n",
    ")"
   ],
   "cell_type": "code",
   "metadata": {
    "tags": []
   },
   "execution_count": 254,
   "outputs": [
    {
     "output_type": "execute_result",
     "data": {
      "text/plain": [
       "{'followers': 1707}"
      ]
     },
     "metadata": {},
     "execution_count": 254
    }
   ]
  },
  {
   "source": [
    "P9 - Quantas pessoas do dataset são streamer?"
   ],
   "cell_type": "markdown",
   "metadata": {}
  },
  {
   "cell_type": "code",
   "execution_count": 9,
   "metadata": {
    "tags": []
   },
   "outputs": [
    {
     "output_type": "execute_result",
     "data": {
      "text/plain": [
       "66"
      ]
     },
     "metadata": {},
     "execution_count": 9
    }
   ],
   "source": [
    "db.chess_players.count_documents({\n",
    "    'is_streamer' : True\n",
    "})"
   ]
  },
  {
   "cell_type": "code",
   "execution_count": 12,
   "metadata": {
    "tags": []
   },
   "outputs": [],
   "source": [
    "jogadores = []\n",
    "for user in db.chess_players.find({\"is_streamer\": True}):\n",
    "    jogadores.append(user)\n",
    "len(jogadores)"
   ]
  },
  {
   "cell_type": "code",
   "execution_count": 16,
   "metadata": {},
   "outputs": [
    {
     "output_type": "execute_result",
     "data": {
      "text/plain": [
       "66"
      ]
     },
     "metadata": {},
     "execution_count": 16
    }
   ],
   "source": [
    "users = [] #Cria uma variável vazia para ser preenchida no for\n",
    "for user in db.dadosuser.find({\"is_streamer\": True}):\n",
    "    users.append(user) #a função apprende adiciona à variável user cada user dentro da pesquisa\n",
    "len(users) #imprime o tamanho da variável users (no caso , quantos user colocamos nela)"
   ]
  },
  {
   "source": [
    "P10 - Quantos jogadores possuem mais de 10.000 seguidores? (operador maior ou igual a que?)"
   ],
   "cell_type": "markdown",
   "metadata": {}
  },
  {
   "cell_type": "code",
   "execution_count": 229,
   "metadata": {},
   "outputs": [
    {
     "output_type": "execute_result",
     "data": {
      "text/plain": [
       "13"
      ]
     },
     "metadata": {},
     "execution_count": 229
    }
   ],
   "source": [
    "db.chess_players.count_documents(\n",
    "    {'followers' : { '$gt': 10000} }\n",
    ")"
   ]
  },
  {
   "cell_type": "code",
   "execution_count": null,
   "metadata": {},
   "outputs": [],
   "source": []
  }
 ]
}